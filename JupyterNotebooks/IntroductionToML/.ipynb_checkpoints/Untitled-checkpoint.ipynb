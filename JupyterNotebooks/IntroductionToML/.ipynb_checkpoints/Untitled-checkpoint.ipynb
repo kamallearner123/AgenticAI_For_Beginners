{
 "cells": [
  {
   "cell_type": "code",
   "execution_count": 1,
   "id": "f748aca0-1f8a-48c2-82e0-935d885297dd",
   "metadata": {},
   "outputs": [
    {
     "ename": "ModuleNotFoundError",
     "evalue": "No module named 'sklearn'",
     "output_type": "error",
     "traceback": [
      "\u001b[31m---------------------------------------------------------------------------\u001b[39m",
      "\u001b[31mModuleNotFoundError\u001b[39m                       Traceback (most recent call last)",
      "\u001b[36mCell\u001b[39m\u001b[36m \u001b[39m\u001b[32mIn[1]\u001b[39m\u001b[32m, line 2\u001b[39m\n\u001b[32m      1\u001b[39m \u001b[38;5;66;03m# Baseline models\u001b[39;00m\n\u001b[32m----> \u001b[39m\u001b[32m2\u001b[39m \u001b[38;5;28;01mfrom\u001b[39;00m\u001b[38;5;250m \u001b[39m\u001b[34;01msklearn\u001b[39;00m\u001b[34;01m.\u001b[39;00m\u001b[34;01mdummy\u001b[39;00m\u001b[38;5;250m \u001b[39m\u001b[38;5;28;01mimport\u001b[39;00m DummyRegressor, DummyClassifier\n\u001b[32m      4\u001b[39m \u001b[38;5;66;03m# Regression baseline: predict the mean\u001b[39;00m\n\u001b[32m      5\u001b[39m baseline_reg = Pipeline(steps=[(\u001b[33m\"\u001b[39m\u001b[33mprep\u001b[39m\u001b[33m\"\u001b[39m, preprocessor), (\u001b[33m\"\u001b[39m\u001b[33mmdl\u001b[39m\u001b[33m\"\u001b[39m, DummyRegressor(strategy=\u001b[33m\"\u001b[39m\u001b[33mmean\u001b[39m\u001b[33m\"\u001b[39m))])\n",
      "\u001b[31mModuleNotFoundError\u001b[39m: No module named 'sklearn'"
     ]
    }
   ],
   "source": [
    "# Baseline models\n",
    "from sklearn.dummy import DummyRegressor, DummyClassifier\n",
    "\n",
    "# Regression baseline: predict the mean\n",
    "baseline_reg = Pipeline(steps=[(\"prep\", preprocessor), (\"mdl\", DummyRegressor(strategy=\"mean\"))])\n",
    "baseline_reg.fit(X_train_r, y_train_r)\n",
    "pred_r = baseline_reg.predict(X_test_r)\n",
    "print(\"Baseline (Reg) RMSE:\", mean_squared_error(y_test_r, pred_r, squared=False))\n",
    "\n",
    "# Classification baseline: most frequent class\n",
    "baseline_clf = Pipeline(steps=[(\"prep\", preprocessor), (\"mdl\", DummyClassifier(strategy=\"most_frequent\"))])\n",
    "baseline_clf.fit(X_train_c, y_train_c)\n",
    "pred_c = baseline_clf.predict(X_test_c)\n",
    "print(\"Baseline (Clf) ACC:\", accuracy_score(y_test_c, pred_c))"
   ]
  },
  {
   "cell_type": "code",
   "execution_count": null,
   "id": "7d2063e1-6ad2-4bca-a6e8-1781ed7fdf1b",
   "metadata": {},
   "outputs": [],
   "source": []
  }
 ],
 "metadata": {
  "kernelspec": {
   "display_name": "Python (DeepCode)",
   "language": "python",
   "name": "my_env"
  },
  "language_info": {
   "codemirror_mode": {
    "name": "ipython",
    "version": 3
   },
   "file_extension": ".py",
   "mimetype": "text/x-python",
   "name": "python",
   "nbconvert_exporter": "python",
   "pygments_lexer": "ipython3",
   "version": "3.13.5"
  }
 },
 "nbformat": 4,
 "nbformat_minor": 5
}
