{
 "cells": [
  {
   "cell_type": "code",
   "execution_count": 7,
   "id": "714b7ba5-ffbe-487b-a626-6bff3a80a3d4",
   "metadata": {},
   "outputs": [
    {
     "name": "stdout",
     "output_type": "stream",
     "text": [
      "0             CaseyNeistat\n",
      "1          LastWeekTonight\n",
      "2             Rudy Mancuso\n",
      "3    Good Mythical Morning\n",
      "4                 nigahiga\n",
      "5                 iJustine\n",
      "6      Saturday Night Live\n",
      "7       CrazyRussianHacker\n",
      "8         20th Century Fox\n",
      "9                      Vox\n",
      "Name: channel_title, dtype: object\n"
     ]
    }
   ],
   "source": []
  },
  {
   "cell_type": "code",
   "execution_count": 8,
   "id": "6b739fc1-a5a7-492c-8e0c-f04eb23d68f0",
   "metadata": {},
   "outputs": [
    {
     "name": "stdout",
     "output_type": "stream",
     "text": [
      "      video_id                                              title   likes  \\\n",
      "0  2kyS6SvSYSE                 WE WANT TO TALK ABOUT OUR MARRIAGE   57527   \n",
      "1  1ZAPwfrtAFY  The Trump Presidency: Last Week Tonight with J...   97185   \n",
      "2  5qpjK5DgCt4  Racist Superman | Rudy Mancuso, King Bach & Le...  146033   \n",
      "3  puqaWrEC7tY                   Nickelback Lyrics: Real or Fake?   10172   \n",
      "4  d380meD0W0M                           I Dare You: GOING BALD!?  132235   \n",
      "\n",
      "     views  \n",
      "0   748374  \n",
      "1  2418783  \n",
      "2  3191434  \n",
      "3   343168  \n",
      "4  2095731  \n"
     ]
    }
   ],
   "source": [
    "import pandas as pd\n",
    "df = pd.read_csv(\"../data/Youtube/USvideos.csv\")\n",
    "df = df.dropna()  # From your corrected code\n",
    "# Filter videos with likes > 1000\n",
    "high_likes = df.loc[df['likes'] > 1000, ['video_id', 'title', 'likes', 'views']]\n",
    "print(high_likes.head())"
   ]
  },
  {
   "cell_type": "code",
   "execution_count": 5,
   "id": "65d4a64f-6206-481d-8dd0-6d2b0c26bf21",
   "metadata": {},
   "outputs": [
    {
     "name": "stdout",
     "output_type": "stream",
     "text": [
      "{'Student': ['A', 'B', 'C', 'D', 'E', 'F', 'G'], 'Marks': [100, 50, 40, 34, 45, 60, 22], 'Status': ['1', '2', '2', '3', '3', '1', '2']}\n",
      "  Student  Marks Status\n",
      "0       A    100      1\n",
      "1       B     50      2\n",
      "2       C     40      2\n",
      "3       D     34      3\n",
      "4       E     45      3\n",
      "5       F     60      1\n",
      "6       G     22      2\n",
      "  Student  Marks Status\n",
      "3       D     34      3\n",
      "6       G     22      2\n"
     ]
    },
    {
     "data": {
      "text/plain": [
       "(array([1., 0., 0., 0., 0., 0., 0., 0., 0., 1.]),\n",
       " array([0. , 0.1, 0.2, 0.3, 0.4, 0.5, 0.6, 0.7, 0.8, 0.9, 1. ]),\n",
       " <BarContainer object of 10 artists>)"
      ]
     },
     "execution_count": 5,
     "metadata": {},
     "output_type": "execute_result"
    },
    {
     "data": {
      "image/png": "[encoded data removed]",
      "text/plain": [
       "<Figure size 640x480 with 1 Axes>"
      ]
     },
     "metadata": {},
     "output_type": "display_data"
    }
   ],
   "source": [
    "# Import pandas\n",
    "import pandas as pd\n",
    "import matplotlib.pyplot as plot\n",
    "\n",
    "# Data Frame \n",
    "# Table: Cols, rows\n",
    "d1 = {\"Student\":[\"A\",\"B\",\"C\",\"D\", \"E\", \"F\", \"G\"],\n",
    "     \"Marks\":[100,50,40,34,45,60,22],\n",
    "     \"Status\":[\"1\",\"2\",\"2\",\"3\",\"3\",\"1\",\"2\"]}\n",
    "print(d1)\n",
    "\n",
    "#Creating data frame using dic\n",
    "df = pd.DataFrame(data=d1)\n",
    "print(df)\n",
    "\n",
    "# Filtering\n",
    "need_to_concentrate = df[df['Marks']<35] # df[condition]\n",
    "print(need_to_concentrate)\n",
    "\n",
    "# Plot data using MPL\n",
    "plot.hist(need_to_concentrate['Status'])"
   ]
  },
  {
   "cell_type": "code",
   "execution_count": null,
   "id": "0778ec2a-3b2b-4f16-b151-d94378e6faa8",
   "metadata": {},
   "outputs": [],
   "source": []
  },
  {
   "cell_type": "code",
   "execution_count": 10,
   "id": "0cbce469-2b70-497b-b354-20908ee00847",
   "metadata": {},
   "outputs": [
    {
     "name": "stdout",
     "output_type": "stream",
     "text": [
      "  Student  Marks\n",
      "3       D     34\n",
      "6       G     22\n"
     ]
    }
   ],
   "source": [
    "need_to_concentrate = df[df['Marks']<35] # df[condition]\n",
    "print(need_to_concentrate)"
   ]
  },
  {
   "cell_type": "code",
   "execution_count": null,
   "id": "124a98d9-65b6-4ccf-acdf-c806b8deabc2",
   "metadata": {},
   "outputs": [],
   "source": []
  },
  {
   "cell_type": "code",
   "execution_count": 7,
   "id": "f78cbf6b-7f63-45b0-bfe8-dc7be054d7eb",
   "metadata": {},
   "outputs": [
    {
     "data": {
      "text/plain": [
       "<BarContainer object of 6 artists>"
      ]
     },
     "execution_count": 7,
     "metadata": {},
     "output_type": "execute_result"
    },
    {
     "data": {
      "image/png": "[encoded data removed]",
      "text/plain": [
       "<Figure size 640x480 with 1 Axes>"
      ]
     },
     "metadata": {},
     "output_type": "display_data"
    }
   ],
   "source": [
    "import matplotlib.pyplot as plot\n",
    "# Plot data using MPL\n",
    "plot.bar(df['Student'], df['Marks'])"
   ]
  },
  {
   "cell_type": "code",
   "execution_count": null,
   "id": "f0c91991-b5ec-4c5e-86e9-2862194a178d",
   "metadata": {},
   "outputs": [],
   "source": []
  }
 ],
 "metadata": {
  "kernelspec": {
   "display_name": "Python 3 (ipykernel)",
   "language": "python",
   "name": "python3"
  },
  "language_info": {
   "codemirror_mode": {
    "name": "ipython",
    "version": 3
   },
   "file_extension": ".py",
   "mimetype": "text/x-python",
   "name": "python",
   "nbconvert_exporter": "python",
   "pygments_lexer": "ipython3",
   "version": "3.12.7"
  }
 },
 "nbformat": 4,
 "nbformat_minor": 5
}
