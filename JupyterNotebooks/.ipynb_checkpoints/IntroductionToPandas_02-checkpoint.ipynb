{
 "cells": [
  {
   "cell_type": "code",
   "execution_count": 2,
   "id": "490ac172-0f03-41ea-b506-fb4b70fbb233",
   "metadata": {},
   "outputs": [
    {
     "name": "stdout",
     "output_type": "stream",
     "text": [
      "<class 'pandas.core.frame.DataFrame'>\n",
      "RangeIndex: 40881 entries, 0 to 40880\n",
      "Data columns (total 16 columns):\n",
      " #   Column                  Non-Null Count  Dtype \n",
      "---  ------                  --------------  ----- \n",
      " 0   video_id                40881 non-null  object\n",
      " 1   trending_date           40881 non-null  object\n",
      " 2   title                   40881 non-null  object\n",
      " 3   channel_title           40881 non-null  object\n",
      " 4   category_id             40881 non-null  int64 \n",
      " 5   publish_time            40881 non-null  object\n",
      " 6   tags                    40881 non-null  object\n",
      " 7   views                   40881 non-null  int64 \n",
      " 8   likes                   40881 non-null  int64 \n",
      " 9   dislikes                40881 non-null  int64 \n",
      " 10  comment_count           40881 non-null  int64 \n",
      " 11  thumbnail_link          40881 non-null  object\n",
      " 12  comments_disabled       40881 non-null  bool  \n",
      " 13  ratings_disabled        40881 non-null  bool  \n",
      " 14  video_error_or_removed  40881 non-null  bool  \n",
      " 15  description             39585 non-null  object\n",
      "dtypes: bool(3), int64(5), object(8)\n",
      "memory usage: 4.2+ MB\n",
      "None\n",
      "      video_id trending_date  \\\n",
      "0  n1WpP7iowLc      17.14.11   \n",
      "1  0dBIkQ4Mz1M      17.14.11   \n",
      "2  5qpjK5DgCt4      17.14.11   \n",
      "3  d380meD0W0M      17.14.11   \n",
      "4  2Vv-BfVoq4g      17.14.11   \n",
      "\n",
      "                                               title channel_title  \\\n",
      "0         Eminem - Walk On Water (Audio) ft. Beyoncé    EminemVEVO   \n",
      "1                      PLUSH - Bad Unboxing Fan Mail     iDubbbzTV   \n",
      "2  Racist Superman | Rudy Mancuso, King Bach & Le...  Rudy Mancuso   \n",
      "3                           I Dare You: GOING BALD!?      nigahiga   \n",
      "4        Ed Sheeran - Perfect (Official Music Video)    Ed Sheeran   \n",
      "\n",
      "   category_id              publish_time  \\\n",
      "0           10  2017-11-10T17:00:03.000Z   \n",
      "1           23  2017-11-13T17:00:00.000Z   \n",
      "2           23  2017-11-12T19:05:24.000Z   \n",
      "3           24  2017-11-12T18:01:41.000Z   \n",
      "4           10  2017-11-09T11:04:14.000Z   \n",
      "\n",
      "                                                tags     views    likes  \\\n",
      "0  Eminem|\"Walk\"|\"On\"|\"Water\"|\"Aftermath/Shady/In...  17158579   787425   \n",
      "1  plush|\"bad unboxing\"|\"unboxing\"|\"fan mail\"|\"id...   1014651   127794   \n",
      "2  racist superman|\"rudy\"|\"mancuso\"|\"king\"|\"bach\"...   3191434   146035   \n",
      "3  ryan|\"higa\"|\"higatv\"|\"nigahiga\"|\"i dare you\"|\"...   2095828   132239   \n",
      "4  edsheeran|\"ed sheeran\"|\"acoustic\"|\"live\"|\"cove...  33523622  1634130   \n",
      "\n",
      "   dislikes  comment_count                                  thumbnail_link  \\\n",
      "0     43420         125882  https://i.ytimg.com/vi/n1WpP7iowLc/default.jpg   \n",
      "1      1688          13030  https://i.ytimg.com/vi/0dBIkQ4Mz1M/default.jpg   \n",
      "2      5339           8181  https://i.ytimg.com/vi/5qpjK5DgCt4/default.jpg   \n",
      "3      1989          17518  https://i.ytimg.com/vi/d380meD0W0M/default.jpg   \n",
      "4     21082          85067  https://i.ytimg.com/vi/2Vv-BfVoq4g/default.jpg   \n",
      "\n",
      "   comments_disabled  ratings_disabled  video_error_or_removed  \\\n",
      "0              False             False                   False   \n",
      "1              False             False                   False   \n",
      "2              False             False                   False   \n",
      "3              False             False                   False   \n",
      "4              False             False                   False   \n",
      "\n",
      "                                         description  \n",
      "0  Eminem's new track Walk on Water ft. Beyoncé i...  \n",
      "1  STill got a lot of packages. Probably will las...  \n",
      "2  WATCH MY PREVIOUS VIDEO ▶ \\n\\nSUBSCRIBE ► http...  \n",
      "3  I know it's been a while since we did this sho...  \n",
      "4  🎧: https://ad.gt/yt-perfect\\n💰: https://atlant...  \n"
     ]
    }
   ],
   "source": [
    "# 1) Read the data from csv file\n",
    "import pandas as pd\n",
    "df = pd.read_csv(\"../data/Youtube/CAvideos.csv\")\n",
    "\n",
    "# 2) Get some idea on dataset\n",
    "# See the columns\n",
    "print(df.info())\n",
    "print(df.head())"
   ]
  },
  {
   "cell_type": "code",
   "execution_count": null,
   "id": "de34fa40-bcda-4f51-b950-09702bacf076",
   "metadata": {},
   "outputs": [],
   "source": []
  },
  {
   "cell_type": "code",
   "execution_count": 3,
   "id": "679de859-dc1c-4a55-be18-c77ea7113a21",
   "metadata": {},
   "outputs": [
    {
     "data": {
      "text/html": [
       "<div>\n",
       "<style scoped>\n",
       "    .dataframe tbody tr th:only-of-type {\n",
       "        vertical-align: middle;\n",
       "    }\n",
       "\n",
       "    .dataframe tbody tr th {\n",
       "        vertical-align: top;\n",
       "    }\n",
       "\n",
       "    .dataframe thead th {\n",
       "        text-align: right;\n",
       "    }\n",
       "</style>\n",
       "<table border=\"1\" class=\"dataframe\">\n",
       "  <thead>\n",
       "    <tr style=\"text-align: right;\">\n",
       "      <th></th>\n",
       "      <th>category_id</th>\n",
       "      <th>views</th>\n",
       "      <th>likes</th>\n",
       "      <th>dislikes</th>\n",
       "      <th>comment_count</th>\n",
       "    </tr>\n",
       "  </thead>\n",
       "  <tbody>\n",
       "    <tr>\n",
       "      <th>count</th>\n",
       "      <td>40881.000000</td>\n",
       "      <td>4.088100e+04</td>\n",
       "      <td>4.088100e+04</td>\n",
       "      <td>4.088100e+04</td>\n",
       "      <td>4.088100e+04</td>\n",
       "    </tr>\n",
       "    <tr>\n",
       "      <th>mean</th>\n",
       "      <td>20.795553</td>\n",
       "      <td>1.147036e+06</td>\n",
       "      <td>3.958269e+04</td>\n",
       "      <td>2.009195e+03</td>\n",
       "      <td>5.042975e+03</td>\n",
       "    </tr>\n",
       "    <tr>\n",
       "      <th>std</th>\n",
       "      <td>6.775054</td>\n",
       "      <td>3.390913e+06</td>\n",
       "      <td>1.326895e+05</td>\n",
       "      <td>1.900837e+04</td>\n",
       "      <td>2.157902e+04</td>\n",
       "    </tr>\n",
       "    <tr>\n",
       "      <th>min</th>\n",
       "      <td>1.000000</td>\n",
       "      <td>7.330000e+02</td>\n",
       "      <td>0.000000e+00</td>\n",
       "      <td>0.000000e+00</td>\n",
       "      <td>0.000000e+00</td>\n",
       "    </tr>\n",
       "    <tr>\n",
       "      <th>25%</th>\n",
       "      <td>20.000000</td>\n",
       "      <td>1.439020e+05</td>\n",
       "      <td>2.191000e+03</td>\n",
       "      <td>9.900000e+01</td>\n",
       "      <td>4.170000e+02</td>\n",
       "    </tr>\n",
       "    <tr>\n",
       "      <th>50%</th>\n",
       "      <td>24.000000</td>\n",
       "      <td>3.712040e+05</td>\n",
       "      <td>8.780000e+03</td>\n",
       "      <td>3.030000e+02</td>\n",
       "      <td>1.301000e+03</td>\n",
       "    </tr>\n",
       "    <tr>\n",
       "      <th>75%</th>\n",
       "      <td>24.000000</td>\n",
       "      <td>9.633020e+05</td>\n",
       "      <td>2.871700e+04</td>\n",
       "      <td>9.500000e+02</td>\n",
       "      <td>3.713000e+03</td>\n",
       "    </tr>\n",
       "    <tr>\n",
       "      <th>max</th>\n",
       "      <td>43.000000</td>\n",
       "      <td>1.378431e+08</td>\n",
       "      <td>5.053338e+06</td>\n",
       "      <td>1.602383e+06</td>\n",
       "      <td>1.114800e+06</td>\n",
       "    </tr>\n",
       "  </tbody>\n",
       "</table>\n",
       "</div>"
      ],
      "text/plain": [
       "        category_id         views         likes      dislikes  comment_count\n",
       "count  40881.000000  4.088100e+04  4.088100e+04  4.088100e+04   4.088100e+04\n",
       "mean      20.795553  1.147036e+06  3.958269e+04  2.009195e+03   5.042975e+03\n",
       "std        6.775054  3.390913e+06  1.326895e+05  1.900837e+04   2.157902e+04\n",
       "min        1.000000  7.330000e+02  0.000000e+00  0.000000e+00   0.000000e+00\n",
       "25%       20.000000  1.439020e+05  2.191000e+03  9.900000e+01   4.170000e+02\n",
       "50%       24.000000  3.712040e+05  8.780000e+03  3.030000e+02   1.301000e+03\n",
       "75%       24.000000  9.633020e+05  2.871700e+04  9.500000e+02   3.713000e+03\n",
       "max       43.000000  1.378431e+08  5.053338e+06  1.602383e+06   1.114800e+06"
      ]
     },
     "execution_count": 3,
     "metadata": {},
     "output_type": "execute_result"
    }
   ],
   "source": [
    "df.head()\n",
    "df.describe()"
   ]
  },
  {
   "cell_type": "code",
   "execution_count": 9,
   "id": "f953e278-27b0-4a03-871c-9ca3d58a20a2",
   "metadata": {},
   "outputs": [
    {
     "name": "stdout",
     "output_type": "stream",
     "text": [
      "['Jake Paul' 'YouTube Spotlight' 'Logan Paul Vlogs' 'Daily Caller'\n",
      " 'Washington Post' 'KatyPerryVEVO' 'Алексей Навальный' 'TaylorSwiftVEVO'\n",
      " 'shakiraVEVO' 'MLG Highlights' 'Lil pump' 'ChildishGambinoVEVO'\n",
      " 'Sơn Tùng M-TP Official' 'Salman Khan Films' 'ibighit' 'Call of Duty']\n",
      "['https://i.ytimg.com/vi/PRlmRnU9qts/default.jpg'\n",
      " 'https://i.ytimg.com/vi/pOHQdIDds6s/default.jpg'\n",
      " 'https://i.ytimg.com/vi/nXUWK80TOTI/default.jpg'\n",
      " 'https://i.ytimg.com/vi/FlsCjmMhFmw/default.jpg'\n",
      " 'https://i.ytimg.com/vi/khPLWaBioOs/default.jpg'\n",
      " 'https://i.ytimg.com/vi/LFhT6H6pRWg/default.jpg'\n",
      " 'https://i.ytimg.com/vi/8d_202l55LU/default.jpg'\n",
      " 'https://i.ytimg.com/vi/WS7f5xpGYn8/default.jpg'\n",
      " 'https://i.ytimg.com/vi/q-aZFxwX5Zs/default.jpg'\n",
      " 'https://i.ytimg.com/vi/Tz50vEX0nwE/default.jpg'\n",
      " 'https://i.ytimg.com/vi/dfnCAmr569k/default.jpg'\n",
      " 'https://i.ytimg.com/vi/oWjxSkJpxFU/default.jpg'\n",
      " 'https://i.ytimg.com/vi/zkG4Xpz6t68/default.jpg'\n",
      " 'https://i.ytimg.com/vi/V5cOvyDpWfM/default.jpg'\n",
      " 'https://i.ytimg.com/vi/DPxL7dO5XPc/default.jpg'\n",
      " 'https://i.ytimg.com/vi/VYOjWnS4cMY/default.jpg'\n",
      " 'https://i.ytimg.com/vi/32sYGCOYJUM/default.jpg'\n",
      " 'https://i.ytimg.com/vi/xBht9TG7ySw/default.jpg'\n",
      " 'https://i.ytimg.com/vi/7C2z4GqqS5E/default.jpg'\n",
      " 'https://i.ytimg.com/vi/ooyjaVdt-jA/default.jpg'\n",
      " 'https://i.ytimg.com/vi/GnGPAYvve1A/default.jpg']\n"
     ]
    }
   ],
   "source": [
    "# Filter data: \n",
    "# Get list of top most vide ids got more dislikes\n",
    "df_dislikes = df[df['dislikes']>1_000_00]\n",
    "#print(df_dislikes.describe())\n",
    "print(df_dislikes['channel_title'].unique())\n",
    "print(df_dislikes['thumbnail_link'].unique())"
   ]
  },
  {
   "cell_type": "code",
   "execution_count": 18,
   "id": "2d2c6ee8-07a8-4e15-a979-46b110640c89",
   "metadata": {},
   "outputs": [
    {
     "name": "stdout",
     "output_type": "stream",
     "text": [
      "                          views   likes  dislikes\n",
      "channel_title                                    \n",
      "#AndresSTyle            1330191   16384       468\n",
      "#Mind Warehouse        39464664  536411     94787\n",
      "#SeekingTheTruth         119011    3277       176\n",
      "* Martyna *               44973     524        13\n",
      "- 欢迎订阅 -浙江卫视【奔跑吧】官方频道  48769105  345378     38594\n",
      "                          views   likes  dislikes   rate\n",
      "channel_title                                           \n",
      "#AndresSTyle            1330191   16384       468   1377\n",
      "#Mind Warehouse        39464664  536411     94787  40599\n",
      "#SeekingTheTruth         119011    3277       176    127\n",
      "* Martyna *               44973     524        13     46\n",
      "- 欢迎订阅 -浙江卫视【奔跑吧】官方频道  48769105  345378     38594  49612\n"
     ]
    }
   ],
   "source": [
    "# Group the data using channel title along with number likes, dislikes, views\n",
    "df_ch_group = df.groupby(\"channel_title\").agg(\n",
    "    {\"views\":\"sum\",\n",
    "    \"likes\":\"sum\",\n",
    "    \"dislikes\":\"sum\"}\n",
    ")\n",
    "print(df_ch_group.head())\n",
    "df_ch_group['rate'] = (df_ch_group['views']+df_ch_group['likes']*3-df_ch_group['dislikes']*5)//1000\n",
    "print(df_ch_group.head())\n"
   ]
  },
  {
   "cell_type": "code",
   "execution_count": 19,
   "id": "351a01a7-ba35-4c50-9fc2-9efc34babd2b",
   "metadata": {},
   "outputs": [
    {
     "data": {
      "text/plain": [
       "(array([4.972e+03, 6.400e+01, 2.200e+01, 8.000e+00, 4.000e+00, 3.000e+00,\n",
       "        0.000e+00, 2.000e+00, 0.000e+00, 1.000e+00]),\n",
       " array([1.000000e+00, 1.107076e+05, 2.214142e+05, 3.321208e+05,\n",
       "        4.428274e+05, 5.535340e+05, 6.642406e+05, 7.749472e+05,\n",
       "        8.856538e+05, 9.963604e+05, 1.107067e+06]),\n",
       " <BarContainer object of 10 artists>)"
      ]
     },
     "execution_count": 19,
     "metadata": {},
     "output_type": "execute_result"
    },
    {
     "data": {
      "image/png": "[encoded data removed]",
      "text/plain": [
       "<Figure size 640x480 with 1 Axes>"
      ]
     },
     "metadata": {},
     "output_type": "display_data"
    }
   ],
   "source": [
    "import matplotlib.pyplot as plot\n",
    "plot.hist(df_ch_group['rate'])"
   ]
  },
  {
   "cell_type": "code",
   "execution_count": 27,
   "id": "6f044baf-ff33-4c4d-bf78-e62f3d4bd4c8",
   "metadata": {},
   "outputs": [
    {
     "data": {
      "text/plain": [
       "Text(0, 0.5, 'Rate')"
      ]
     },
     "execution_count": 27,
     "metadata": {},
     "output_type": "execute_result"
    },
    {
     "data": {
      "image/png": "[encoded data removed]",
      "text/plain": [
       "<Figure size 640x480 with 1 Axes>"
      ]
     },
     "metadata": {},
     "output_type": "display_data"
    }
   ],
   "source": [
    "plot.scatter(df_ch_group['views'], df_ch_group['rate'])\n",
    "#df_ch_group.info()\n",
    "plot.title(\"Likes vs Rate\")\n",
    "plot.xlabel(\"Likes\")\n",
    "plot.ylabel(\"Rate\")"
   ]
  },
  {
   "cell_type": "code",
   "execution_count": 32,
   "id": "beaa318d-c12d-4476-b236-c2d42dad573b",
   "metadata": {},
   "outputs": [
    {
     "name": "stdout",
     "output_type": "stream",
     "text": [
      "                                  views     likes  dislikes     rate\n",
      "channel_title                                                       \n",
      "Marvel Entertainment         1011420205  32892782    606296  1107067\n",
      "T-Series                      799114025  15856204   1067612   841344\n",
      "Dude Perfect                  729916338  28298398    590686   811858\n",
      "ibighit                       511567918  50259874    912931   657782\n",
      "YouTube Spotlight             635976769  16879595   8898520   642122\n",
      "PewDiePie                     461700524  33596931    902236   557980\n",
      "Sony Pictures Entertainment   451188760  10688878    482395   480843\n",
      "Speed Records                 426604974  12238591    574980   460445\n",
      "ChildishGambinoVEVO           411775069  14593916    689948   452107\n",
      "20th Century Fox              419577035   9002249    195772   445604\n",
      "                           views     likes  dislikes    rate\n",
      "channel_title                                               \n",
      "TaylorSwiftVEVO        374678625  18271131    962785  424678\n",
      "Universal Pictures     389777414   6353562    270926  407483\n",
      "FoxStarHindi           380299683   8063384    309949  402940\n",
      "EminemVEVO             326643776  18160439    626363  377993\n",
      "MLG Highlights         349687769   1578455    904889  349898\n",
      "Warner Bros. Pictures  334634298   4141591    463357  344742\n",
      "BuzzFeedVideo          320822878   7877680    350710  342702\n",
      "Disney•Pixar           311335874   6318307    171498  329433\n",
      "5-Minute Crafts        300739307   2861816    355708  307546\n"
     ]
    }
   ],
   "source": [
    "df_sorted = df_ch_group.sort_values('rate', ascending=False)\n",
    "# Top ten channels got higher rate\n",
    "print(df_sorted.head(10))\n",
    "print(df_sorted[11:20])"
   ]
  },
  {
   "cell_type": "code",
   "execution_count": 34,
   "id": "2e457b97-0290-404a-9e31-458831dcc141",
   "metadata": {},
   "outputs": [
    {
     "name": "stdout",
     "output_type": "stream",
     "text": [
      "<class 'pandas.core.frame.DataFrame'>\n",
      "RangeIndex: 40881 entries, 0 to 40880\n",
      "Data columns (total 16 columns):\n",
      " #   Column                  Non-Null Count  Dtype \n",
      "---  ------                  --------------  ----- \n",
      " 0   video_id                40881 non-null  object\n",
      " 1   trending_date           40881 non-null  object\n",
      " 2   title                   40881 non-null  object\n",
      " 3   channel_title           40881 non-null  object\n",
      " 4   category_id             40881 non-null  int64 \n",
      " 5   publish_time            40881 non-null  object\n",
      " 6   tags                    40881 non-null  object\n",
      " 7   views                   40881 non-null  int64 \n",
      " 8   likes                   40881 non-null  int64 \n",
      " 9   dislikes                40881 non-null  int64 \n",
      " 10  comment_count           40881 non-null  int64 \n",
      " 11  thumbnail_link          40881 non-null  object\n",
      " 12  comments_disabled       40881 non-null  bool  \n",
      " 13  ratings_disabled        40881 non-null  bool  \n",
      " 14  video_error_or_removed  40881 non-null  bool  \n",
      " 15  description             39585 non-null  object\n",
      "dtypes: bool(3), int64(5), object(8)\n",
      "memory usage: 4.2+ MB\n"
     ]
    }
   ],
   "source": [
    "df.info()"
   ]
  },
  {
   "cell_type": "code",
   "execution_count": null,
   "id": "526d220f-767d-4918-8d11-1bdd23ada413",
   "metadata": {},
   "outputs": [],
   "source": []
  }
 ],
 "metadata": {
  "kernelspec": {
   "display_name": "Python 3 (ipykernel)",
   "language": "python",
   "name": "python3"
  },
  "language_info": {
   "codemirror_mode": {
    "name": "ipython",
    "version": 3
   },
   "file_extension": ".py",
   "mimetype": "text/x-python",
   "name": "python",
   "nbconvert_exporter": "python",
   "pygments_lexer": "ipython3",
   "version": "3.12.7"
  }
 },
 "nbformat": 4,
 "nbformat_minor": 5
}
